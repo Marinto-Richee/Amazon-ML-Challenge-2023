{
  "cells": [
    {
      "cell_type": "markdown",
      "metadata": {
        "id": "view-in-github",
        "colab_type": "text"
      },
      "source": [
        "<a href=\"https://colab.research.google.com/github/Marinto-Richee/Amazon-ML-Challenge-2023/blob/main/Amazon_ML_Challenge.ipynb\" target=\"_parent\"><img src=\"https://colab.research.google.com/assets/colab-badge.svg\" alt=\"Open In Colab\"/></a>"
      ]
    },
    {
      "cell_type": "code",
      "execution_count": 1,
      "metadata": {
        "colab": {
          "base_uri": "https://localhost:8080/"
        },
        "id": "Y0YFqAe1jMvN",
        "outputId": "03823a88-1694-4918-9be1-4603f87a6d80"
      },
      "outputs": [
        {
          "output_type": "stream",
          "name": "stdout",
          "text": [
            "--2023-04-21 14:24:57--  https://s3-ap-southeast-1.amazonaws.com/he-public-data/datasetb2d9982.zip\n",
            "Resolving s3-ap-southeast-1.amazonaws.com (s3-ap-southeast-1.amazonaws.com)... 52.219.164.54\n",
            "Connecting to s3-ap-southeast-1.amazonaws.com (s3-ap-southeast-1.amazonaws.com)|52.219.164.54|:443... connected.\n",
            "HTTP request sent, awaiting response... 200 OK\n",
            "Length: 895569552 (854M) [binary/octet-stream]\n",
            "Saving to: ‘data.zip’\n",
            "\n",
            "data.zip            100%[===================>] 854.08M  16.5MB/s    in 55s     \n",
            "\n",
            "2023-04-21 14:25:52 (15.6 MB/s) - ‘data.zip’ saved [895569552/895569552]\n",
            "\n",
            "Archive:  data.zip\n",
            "replace dataset/sample_submission.csv? [y]es, [n]o, [A]ll, [N]one, [r]ename: n\n",
            "replace dataset/train.csv? [y]es, [n]o, [A]ll, [N]one, [r]ename: n\n",
            "replace dataset/test.csv? [y]es, [n]o, [A]ll, [N]one, [r]ename: n\n"
          ]
        }
      ],
      "source": [
        "!wget https://s3-ap-southeast-1.amazonaws.com/he-public-data/datasetb2d9982.zip -O data.zip\n",
        "!unzip data.zip"
      ]
    },
    {
      "cell_type": "code",
      "execution_count": 2,
      "metadata": {
        "id": "cokdelSUj_74"
      },
      "outputs": [],
      "source": [
        "import pandas as pd\n",
        "train_data=pd.read_csv(\"/content/dataset/train.csv\")\n",
        "train_data=train_data.dropna()\n",
        "\n",
        "train_data=train_data.iloc[:10000,:]"
      ]
    },
    {
      "cell_type": "code",
      "execution_count": 3,
      "metadata": {
        "colab": {
          "base_uri": "https://localhost:8080/"
        },
        "id": "h9G1hSys16an",
        "outputId": "7f1b58a6-c05b-4452-8b06-a344b3fcba27"
      },
      "outputs": [
        {
          "output_type": "execute_result",
          "data": {
            "text/plain": [
              "PRODUCT_ID         0\n",
              "TITLE              0\n",
              "BULLET_POINTS      0\n",
              "DESCRIPTION        0\n",
              "PRODUCT_TYPE_ID    0\n",
              "PRODUCT_LENGTH     0\n",
              "dtype: int64"
            ]
          },
          "metadata": {},
          "execution_count": 3
        }
      ],
      "source": [
        "train_data.isnull().sum()"
      ]
    },
    {
      "cell_type": "code",
      "source": [
        "import spacy\n",
        "nlp = spacy.load('en_core_web_sm')\n",
        "count=0\n",
        "for i in range(10000):\n",
        "  if count%1000==0:\n",
        "    print('Completed: ',count)\n",
        "    print(train_data[\"TITLE\"].iloc[i])\n",
        "  train_data[\"TITLE\"].iloc[i]=nlp(str(train_data[\"TITLE\"].iloc[i])).vector\n",
        "  count+=1\n",
        "\n",
        "count=0\n",
        "for i in range(10000):\n",
        "  if count%1000==0:\n",
        "    print('Completed: ',count)\n",
        "    print(train_data[\"DESCRIPTION\"].iloc[i])\n",
        "  train_data[\"DESCRIPTION\"].iloc[i]=nlp(str(train_data[\"DESCRIPTION\"].iloc[i])).vector\n",
        "  count+=1\n",
        "\n",
        "count=0\n",
        "for i in range(10000):\n",
        "  if count%1000==0:\n",
        "    print('Completed: ',count)\n",
        "    print(train_data[\"BULLET_POINTS\"].iloc[i])\n",
        "  train_data[\"BULLET_POINTS\"].iloc[i]=nlp(str(train_data[\"BULLET_POINTS\"].iloc[i])).vector\n",
        "  count+=1\n"
      ],
      "metadata": {
        "id": "uQkRIVQmn_et"
      },
      "execution_count": null,
      "outputs": []
    },
    {
      "cell_type": "code",
      "source": [
        "train_data.to_csv('my_data_10000.csv', index=False)\n",
        "train_data.head()"
      ],
      "metadata": {
        "id": "SpdEC4WVxLK_",
        "colab": {
          "base_uri": "https://localhost:8080/",
          "height": 337
        },
        "outputId": "24c50e31-bbb6-40b9-f932-c18a2d9e0110"
      },
      "execution_count": 5,
      "outputs": [
        {
          "output_type": "execute_result",
          "data": {
            "text/plain": [
              "   PRODUCT_ID                                              TITLE  \\\n",
              "2     2765088  [-0.120817296, -0.6034473, 0.18210436, 0.39672...   \n",
              "3     1594019  [-0.30172753, -0.32829326, -0.26941085, 0.1988...   \n",
              "5     2152929  [-0.26320964, -0.486768, -0.26648563, 0.552244...   \n",
              "7     2026580  [-0.408034, -0.5665321, -0.44239488, 0.0662604...   \n",
              "9     2998633  [-0.2259436, -0.45449623, -0.28332806, 0.28095...   \n",
              "\n",
              "                                       BULLET_POINTS  \\\n",
              "2  [-0.056971382, -0.398389, 0.1772821, 0.0717490...   \n",
              "3  [-0.06048255, -0.29669142, -0.07257859, 0.0846...   \n",
              "5  [0.112959474, -0.29354924, 0.045245305, -0.016...   \n",
              "7  [0.028209824, -0.3205527, 0.064783745, 0.02600...   \n",
              "9  [0.12393233, -0.1832851, -0.30621356, 0.077562...   \n",
              "\n",
              "                                         DESCRIPTION  PRODUCT_TYPE_ID  \\\n",
              "2  [-0.2089277, -0.31105655, -0.29244918, 0.13836...             7537   \n",
              "3  [-0.17939621, -0.38716075, 0.16399534, 0.09791...             2996   \n",
              "5  [0.039914962, -0.22128348, 0.021789834, -0.006...             5725   \n",
              "7  [0.0662049, -0.34979975, -0.03238398, -0.04404...             6030   \n",
              "9  [-0.022112051, -0.16617824, -0.22733752, 0.024...             8201   \n",
              "\n",
              "   PRODUCT_LENGTH  \n",
              "2      748.031495  \n",
              "3      787.401574  \n",
              "5      950.000000  \n",
              "7      984.251967  \n",
              "9      393.700787  "
            ],
            "text/html": [
              "\n",
              "  <div id=\"df-52b6614e-4bfa-46a9-8c98-66eb082c509d\">\n",
              "    <div class=\"colab-df-container\">\n",
              "      <div>\n",
              "<style scoped>\n",
              "    .dataframe tbody tr th:only-of-type {\n",
              "        vertical-align: middle;\n",
              "    }\n",
              "\n",
              "    .dataframe tbody tr th {\n",
              "        vertical-align: top;\n",
              "    }\n",
              "\n",
              "    .dataframe thead th {\n",
              "        text-align: right;\n",
              "    }\n",
              "</style>\n",
              "<table border=\"1\" class=\"dataframe\">\n",
              "  <thead>\n",
              "    <tr style=\"text-align: right;\">\n",
              "      <th></th>\n",
              "      <th>PRODUCT_ID</th>\n",
              "      <th>TITLE</th>\n",
              "      <th>BULLET_POINTS</th>\n",
              "      <th>DESCRIPTION</th>\n",
              "      <th>PRODUCT_TYPE_ID</th>\n",
              "      <th>PRODUCT_LENGTH</th>\n",
              "    </tr>\n",
              "  </thead>\n",
              "  <tbody>\n",
              "    <tr>\n",
              "      <th>2</th>\n",
              "      <td>2765088</td>\n",
              "      <td>[-0.120817296, -0.6034473, 0.18210436, 0.39672...</td>\n",
              "      <td>[-0.056971382, -0.398389, 0.1772821, 0.0717490...</td>\n",
              "      <td>[-0.2089277, -0.31105655, -0.29244918, 0.13836...</td>\n",
              "      <td>7537</td>\n",
              "      <td>748.031495</td>\n",
              "    </tr>\n",
              "    <tr>\n",
              "      <th>3</th>\n",
              "      <td>1594019</td>\n",
              "      <td>[-0.30172753, -0.32829326, -0.26941085, 0.1988...</td>\n",
              "      <td>[-0.06048255, -0.29669142, -0.07257859, 0.0846...</td>\n",
              "      <td>[-0.17939621, -0.38716075, 0.16399534, 0.09791...</td>\n",
              "      <td>2996</td>\n",
              "      <td>787.401574</td>\n",
              "    </tr>\n",
              "    <tr>\n",
              "      <th>5</th>\n",
              "      <td>2152929</td>\n",
              "      <td>[-0.26320964, -0.486768, -0.26648563, 0.552244...</td>\n",
              "      <td>[0.112959474, -0.29354924, 0.045245305, -0.016...</td>\n",
              "      <td>[0.039914962, -0.22128348, 0.021789834, -0.006...</td>\n",
              "      <td>5725</td>\n",
              "      <td>950.000000</td>\n",
              "    </tr>\n",
              "    <tr>\n",
              "      <th>7</th>\n",
              "      <td>2026580</td>\n",
              "      <td>[-0.408034, -0.5665321, -0.44239488, 0.0662604...</td>\n",
              "      <td>[0.028209824, -0.3205527, 0.064783745, 0.02600...</td>\n",
              "      <td>[0.0662049, -0.34979975, -0.03238398, -0.04404...</td>\n",
              "      <td>6030</td>\n",
              "      <td>984.251967</td>\n",
              "    </tr>\n",
              "    <tr>\n",
              "      <th>9</th>\n",
              "      <td>2998633</td>\n",
              "      <td>[-0.2259436, -0.45449623, -0.28332806, 0.28095...</td>\n",
              "      <td>[0.12393233, -0.1832851, -0.30621356, 0.077562...</td>\n",
              "      <td>[-0.022112051, -0.16617824, -0.22733752, 0.024...</td>\n",
              "      <td>8201</td>\n",
              "      <td>393.700787</td>\n",
              "    </tr>\n",
              "  </tbody>\n",
              "</table>\n",
              "</div>\n",
              "      <button class=\"colab-df-convert\" onclick=\"convertToInteractive('df-52b6614e-4bfa-46a9-8c98-66eb082c509d')\"\n",
              "              title=\"Convert this dataframe to an interactive table.\"\n",
              "              style=\"display:none;\">\n",
              "        \n",
              "  <svg xmlns=\"http://www.w3.org/2000/svg\" height=\"24px\"viewBox=\"0 0 24 24\"\n",
              "       width=\"24px\">\n",
              "    <path d=\"M0 0h24v24H0V0z\" fill=\"none\"/>\n",
              "    <path d=\"M18.56 5.44l.94 2.06.94-2.06 2.06-.94-2.06-.94-.94-2.06-.94 2.06-2.06.94zm-11 1L8.5 8.5l.94-2.06 2.06-.94-2.06-.94L8.5 2.5l-.94 2.06-2.06.94zm10 10l.94 2.06.94-2.06 2.06-.94-2.06-.94-.94-2.06-.94 2.06-2.06.94z\"/><path d=\"M17.41 7.96l-1.37-1.37c-.4-.4-.92-.59-1.43-.59-.52 0-1.04.2-1.43.59L10.3 9.45l-7.72 7.72c-.78.78-.78 2.05 0 2.83L4 21.41c.39.39.9.59 1.41.59.51 0 1.02-.2 1.41-.59l7.78-7.78 2.81-2.81c.8-.78.8-2.07 0-2.86zM5.41 20L4 18.59l7.72-7.72 1.47 1.35L5.41 20z\"/>\n",
              "  </svg>\n",
              "      </button>\n",
              "      \n",
              "  <style>\n",
              "    .colab-df-container {\n",
              "      display:flex;\n",
              "      flex-wrap:wrap;\n",
              "      gap: 12px;\n",
              "    }\n",
              "\n",
              "    .colab-df-convert {\n",
              "      background-color: #E8F0FE;\n",
              "      border: none;\n",
              "      border-radius: 50%;\n",
              "      cursor: pointer;\n",
              "      display: none;\n",
              "      fill: #1967D2;\n",
              "      height: 32px;\n",
              "      padding: 0 0 0 0;\n",
              "      width: 32px;\n",
              "    }\n",
              "\n",
              "    .colab-df-convert:hover {\n",
              "      background-color: #E2EBFA;\n",
              "      box-shadow: 0px 1px 2px rgba(60, 64, 67, 0.3), 0px 1px 3px 1px rgba(60, 64, 67, 0.15);\n",
              "      fill: #174EA6;\n",
              "    }\n",
              "\n",
              "    [theme=dark] .colab-df-convert {\n",
              "      background-color: #3B4455;\n",
              "      fill: #D2E3FC;\n",
              "    }\n",
              "\n",
              "    [theme=dark] .colab-df-convert:hover {\n",
              "      background-color: #434B5C;\n",
              "      box-shadow: 0px 1px 3px 1px rgba(0, 0, 0, 0.15);\n",
              "      filter: drop-shadow(0px 1px 2px rgba(0, 0, 0, 0.3));\n",
              "      fill: #FFFFFF;\n",
              "    }\n",
              "  </style>\n",
              "\n",
              "      <script>\n",
              "        const buttonEl =\n",
              "          document.querySelector('#df-52b6614e-4bfa-46a9-8c98-66eb082c509d button.colab-df-convert');\n",
              "        buttonEl.style.display =\n",
              "          google.colab.kernel.accessAllowed ? 'block' : 'none';\n",
              "\n",
              "        async function convertToInteractive(key) {\n",
              "          const element = document.querySelector('#df-52b6614e-4bfa-46a9-8c98-66eb082c509d');\n",
              "          const dataTable =\n",
              "            await google.colab.kernel.invokeFunction('convertToInteractive',\n",
              "                                                     [key], {});\n",
              "          if (!dataTable) return;\n",
              "\n",
              "          const docLinkHtml = 'Like what you see? Visit the ' +\n",
              "            '<a target=\"_blank\" href=https://colab.research.google.com/notebooks/data_table.ipynb>data table notebook</a>'\n",
              "            + ' to learn more about interactive tables.';\n",
              "          element.innerHTML = '';\n",
              "          dataTable['output_type'] = 'display_data';\n",
              "          await google.colab.output.renderOutput(dataTable, element);\n",
              "          const docLink = document.createElement('div');\n",
              "          docLink.innerHTML = docLinkHtml;\n",
              "          element.appendChild(docLink);\n",
              "        }\n",
              "      </script>\n",
              "    </div>\n",
              "  </div>\n",
              "  "
            ]
          },
          "metadata": {},
          "execution_count": 5
        }
      ]
    },
    {
      "cell_type": "code",
      "execution_count": 11,
      "metadata": {
        "colab": {
          "base_uri": "https://localhost:8080/"
        },
        "id": "JvqjB8VzobSH",
        "outputId": "d11dbc9a-6519-4cbe-aa73-2932604e0a8d"
      },
      "outputs": [
        {
          "output_type": "stream",
          "name": "stdout",
          "text": [
            "PRODUCT_ID:  10000\n",
            "PRODUCT_TYPE_ID:  2416\n",
            "PRODUCT_LENGTH:  1248\n"
          ]
        }
      ],
      "source": [
        "print(\"PRODUCT_ID: \",train_data[\"PRODUCT_ID\"].nunique())\n",
        "print(\"PRODUCT_TYPE_ID: \",train_data[\"PRODUCT_TYPE_ID\"].nunique())\n",
        "print(\"PRODUCT_LENGTH: \",train_data[\"PRODUCT_LENGTH\"].nunique())"
      ]
    }
  ],
  "metadata": {
    "accelerator": "GPU",
    "colab": {
      "provenance": [],
      "authorship_tag": "ABX9TyNiLJWMm1DdkcPtuTJkjDwZ",
      "include_colab_link": true
    },
    "gpuClass": "standard",
    "kernelspec": {
      "display_name": "Python 3",
      "name": "python3"
    },
    "language_info": {
      "name": "python"
    }
  },
  "nbformat": 4,
  "nbformat_minor": 0
}